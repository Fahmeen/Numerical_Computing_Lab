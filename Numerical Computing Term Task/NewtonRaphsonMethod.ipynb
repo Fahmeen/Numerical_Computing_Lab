{
 "cells": [
  {
   "cell_type": "markdown",
   "metadata": {},
   "source": [
    "# Numerical Computing - Newton Raphson Method\n",
    "## Fahmeen Mazhar - 005 - BSCS8"
   ]
  },
  {
   "cell_type": "markdown",
   "metadata": {},
   "source": [
    "## Function: $ x^3 + x - 1 $\n",
    "## First integrating the function of x:"
   ]
  },
  {
   "cell_type": "code",
   "execution_count": 1,
   "metadata": {},
   "outputs": [
    {
     "name": "stdout",
     "output_type": "stream",
     "text": [
      "Enter any function: x*x*x + x - 1\n",
      "The differented function:  3*x**2 + 1\n"
     ]
    },
    {
     "data": {
      "text/latex": [
       "$\\displaystyle 3 x^{2} + 1$"
      ],
      "text/plain": [
       "3*x**2 + 1"
      ]
     },
     "execution_count": 1,
     "metadata": {},
     "output_type": "execute_result"
    }
   ],
   "source": [
    "# Impor numpy and sympy library\n",
    "import numpy as np\n",
    "from sympy import *\n",
    "x, y, z = symbols(\"x y z\")\n",
    "evaluate = input(\"Enter any function: \")\n",
    "\n",
    "# Performing differentiation\n",
    "expression = diff(evaluate)\n",
    "print(\"The differentiated function: \", expression)\n",
    "diff(evaluate)"
   ]
  },
  {
   "cell_type": "markdown",
   "metadata": {},
   "source": [
    "## Finding a value of differentiated function:"
   ]
  },
  {
   "cell_type": "code",
   "execution_count": 2,
   "metadata": {},
   "outputs": [
    {
     "name": "stdout",
     "output_type": "stream",
     "text": [
      "Enter a value of a: 0\n",
      "The value is:  -1.0\n"
     ]
    }
   ],
   "source": [
    "value_of_a = float(input(\"Enter a value of a: \"))\n",
    "\n",
    "# x as first value\n",
    "x = float(value_of_a)\n",
    "\n",
    "expression = eval(evaluate)\n",
    "print(\"The value is: \", expression)"
   ]
  },
  {
   "cell_type": "markdown",
   "metadata": {},
   "source": [
    "## Now again finding a value of differentiated function:"
   ]
  },
  {
   "cell_type": "code",
   "execution_count": 3,
   "metadata": {},
   "outputs": [
    {
     "name": "stdout",
     "output_type": "stream",
     "text": [
      "Enter a value of b: 1\n",
      "The value is:  -1.0\n"
     ]
    }
   ],
   "source": [
    "value_of_b = float(input(\"Enter a value of b: \"))\n",
    "\n",
    "# x1 as second value\n",
    "x1 = float(value_of_b)\n",
    "\n",
    "expression2 = eval(evaluate)\n",
    "print(\"The value is: \", expression2)"
   ]
  },
  {
   "cell_type": "markdown",
   "metadata": {},
   "source": [
    "## For this method we will find midpoint value:"
   ]
  },
  {
   "cell_type": "code",
   "execution_count": 4,
   "metadata": {},
   "outputs": [
    {
     "name": "stdout",
     "output_type": "stream",
     "text": [
      "Mid Point:  0.5\n"
     ]
    }
   ],
   "source": [
    "# Finding midpoint\n",
    "midValue = ((x1 + x) / 2)\n",
    "print(\"Mid Point: \", midValue)"
   ]
  },
  {
   "cell_type": "markdown",
   "metadata": {},
   "source": [
    "## By midpoint value we find value of given function and also a value of differentiated function:"
   ]
  },
  {
   "cell_type": "code",
   "execution_count": 5,
   "metadata": {},
   "outputs": [
    {
     "name": "stdout",
     "output_type": "stream",
     "text": [
      "Enter the function: x3*x3*x3 + x3 - 1\n",
      "The value is:  -0.375\n"
     ]
    }
   ],
   "source": [
    "evaluate = input(\"Enter the function: \")\n",
    "mp = float(midValue)\n",
    "\n",
    "x3 = float(mp)\n",
    "\n",
    "expression3 = eval(evaluate)\n",
    "print(\"The value is: \", expression3)"
   ]
  },
  {
   "cell_type": "code",
   "execution_count": 6,
   "metadata": {},
   "outputs": [
    {
     "name": "stdout",
     "output_type": "stream",
     "text": [
      "Enter the function: 3*x4**2 + 1\n",
      "The value is:  1.75\n"
     ]
    }
   ],
   "source": [
    "evaluate = input(\"Enter the function: \")\n",
    "mp = float(midValue)\n",
    "\n",
    "x4 = float(mp)\n",
    "\n",
    "expression4 = eval(evaluate)\n",
    "print(\"The value is: \", expression4)"
   ]
  },
  {
   "cell_type": "markdown",
   "metadata": {},
   "source": [
    "## Implementing the Newton Raphson Method:\n",
    "First iteration:"
   ]
  },
  {
   "cell_type": "code",
   "execution_count": 7,
   "metadata": {},
   "outputs": [
    {
     "name": "stdout",
     "output_type": "stream",
     "text": [
      "Answer:  0.7142857142857143\n"
     ]
    }
   ],
   "source": [
    "# Newton Raphson Method formula\n",
    "newtonRaphson = ((midValue) - ((expression3) / (expression4)))\n",
    "print(\"Answer: \", newtonRaphson)"
   ]
  },
  {
   "cell_type": "markdown",
   "metadata": {},
   "source": [
    "## Final values:"
   ]
  },
  {
   "cell_type": "code",
   "execution_count": 8,
   "metadata": {},
   "outputs": [
    {
     "name": "stdout",
     "output_type": "stream",
     "text": [
      "Answer:  0.7142857142857143\n"
     ]
    }
   ],
   "source": [
    "print(\"Answer: \", newtonRaphson)"
   ]
  },
  {
   "cell_type": "code",
   "execution_count": 9,
   "metadata": {},
   "outputs": [
    {
     "name": "stdout",
     "output_type": "stream",
     "text": [
      "Final Answer:  0.714\n"
     ]
    }
   ],
   "source": [
    "answer = format(newtonRaphson, '.3f')\n",
    "print(\"Final Answer: \", answer)"
   ]
  },
  {
   "cell_type": "code",
   "execution_count": null,
   "metadata": {},
   "outputs": [],
   "source": []
  }
 ],
 "metadata": {
  "kernelspec": {
   "display_name": "Python 3",
   "language": "python",
   "name": "python3"
  },
  "language_info": {
   "codemirror_mode": {
    "name": "ipython",
    "version": 3
   },
   "file_extension": ".py",
   "mimetype": "text/x-python",
   "name": "python",
   "nbconvert_exporter": "python",
   "pygments_lexer": "ipython3",
   "version": "3.7.4"
  }
 },
 "nbformat": 4,
 "nbformat_minor": 2
}
