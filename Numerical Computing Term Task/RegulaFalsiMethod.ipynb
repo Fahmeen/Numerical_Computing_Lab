{
 "cells": [
  {
   "cell_type": "markdown",
   "metadata": {},
   "source": [
    "# Numerical Computing - Regula Falsi Method\n",
    "## Fahmeen Mazhar - 005 - BSCS8"
   ]
  },
  {
   "cell_type": "markdown",
   "metadata": {},
   "source": [
    "## Function: $ x^3 - 6x + 1 $\n",
    "## First evaluating the function of x:"
   ]
  },
  {
   "cell_type": "code",
   "execution_count": 1,
   "metadata": {},
   "outputs": [
    {
     "name": "stdout",
     "output_type": "stream",
     "text": [
      "Enter any function: x*x*x - 6*x + 1\n",
      "Enter a value of a: 0\n",
      "The value is: 1.0\n"
     ]
    }
   ],
   "source": [
    "# Import numpy library for scientific computing\n",
    "import numpy as np\n",
    "evaluate = input(\"Enter any function: \")\n",
    "value_of_a = float(input(\"Enter a value of a: \"))\n",
    "\n",
    "# x as value\n",
    "x = float(value_of_a)\n",
    "\n",
    "expression = eval(evaluate)\n",
    "print(\"The value is:\", expression)"
   ]
  },
  {
   "cell_type": "markdown",
   "metadata": {},
   "source": [
    "## Now evaluating the function of x with another value:"
   ]
  },
  {
   "cell_type": "code",
   "execution_count": 2,
   "metadata": {},
   "outputs": [
    {
     "name": "stdout",
     "output_type": "stream",
     "text": [
      "Enter the function again: x1*x1*x1 - 6*x1 + 1\n",
      "Enter a value of b: 1\n",
      "The value is: -4.0\n"
     ]
    }
   ],
   "source": [
    "evaluate = input(\"Enter the function again: \")\n",
    "value_of_b = float(input(\"Enter a value of b: \"))\n",
    "\n",
    "# x1 as second value\n",
    "x1 = float(value_of_b)\n",
    "\n",
    "expression2 = eval(evaluate)\n",
    "print(\"The value is:\", expression2)"
   ]
  },
  {
   "cell_type": "markdown",
   "metadata": {},
   "source": [
    "## Implementing RegulaFalsi method formula:\n",
    "First iteration:"
   ]
  },
  {
   "cell_type": "code",
   "execution_count": 3,
   "metadata": {},
   "outputs": [
    {
     "name": "stdout",
     "output_type": "stream",
     "text": [
      "The answer is: 0.2\n"
     ]
    }
   ],
   "source": [
    "# RegulaFalsi Method formula\n",
    "regulaFalsi = (((x) * (expression2)) - ((x1) * (expression)) / ((expression2) - (expression)))\n",
    "print(\"The answer is:\", regulaFalsi)"
   ]
  },
  {
   "cell_type": "code",
   "execution_count": 4,
   "metadata": {},
   "outputs": [
    {
     "name": "stdout",
     "output_type": "stream",
     "text": [
      "Enter any function: x3*x3*x3 - 6*x3 + 1\n",
      "The value is: -0.19200000000000017\n"
     ]
    }
   ],
   "source": [
    "evaluate = input(\"Enter any function: \")\n",
    "rf = float(regulaFalsi)\n",
    "\n",
    "# x3 as new value\n",
    "x3 = float(rf)\n",
    "\n",
    "expression3 = eval(evaluate)\n",
    "print(\"The value is:\", expression3)"
   ]
  },
  {
   "cell_type": "markdown",
   "metadata": {},
   "source": [
    "## Final Values:"
   ]
  },
  {
   "cell_type": "code",
   "execution_count": 5,
   "metadata": {},
   "outputs": [
    {
     "name": "stdout",
     "output_type": "stream",
     "text": [
      "Answer:  0.2\n",
      "Answer:  -0.19200000000000017\n"
     ]
    }
   ],
   "source": [
    "print(\"Answer: \", regulaFalsi)\n",
    "print(\"Answer: \", expression3)"
   ]
  },
  {
   "cell_type": "code",
   "execution_count": 6,
   "metadata": {},
   "outputs": [
    {
     "name": "stdout",
     "output_type": "stream",
     "text": [
      "Final Answer:  -0.192\n"
     ]
    }
   ],
   "source": [
    "# Converting into 3 decimal place\n",
    "answer = format(expression3, '.3f')\n",
    "print(\"Final Answer: \", answer)"
   ]
  },
  {
   "cell_type": "code",
   "execution_count": null,
   "metadata": {},
   "outputs": [],
   "source": []
  }
 ],
 "metadata": {
  "kernelspec": {
   "display_name": "Python 3",
   "language": "python",
   "name": "python3"
  },
  "language_info": {
   "codemirror_mode": {
    "name": "ipython",
    "version": 3
   },
   "file_extension": ".py",
   "mimetype": "text/x-python",
   "name": "python",
   "nbconvert_exporter": "python",
   "pygments_lexer": "ipython3",
   "version": "3.7.4"
  }
 },
 "nbformat": 4,
 "nbformat_minor": 2
}
